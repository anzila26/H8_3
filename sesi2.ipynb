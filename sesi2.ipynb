{
 "cells": [
  {
   "cell_type": "code",
   "execution_count": 2,
   "metadata": {},
   "outputs": [
    {
     "name": "stdout",
     "output_type": "stream",
     "text": [
      "yes\n",
      "xest\n",
      "xest\n",
      "yes\n"
     ]
    }
   ],
   "source": [
    "#kondisi if, jika kondisi pertama benar maka semua pernyataan akan dieksekusi, tetapi jika salah maka tidak ada satupun yang dieksekusi\n",
    "x = 2\n",
    "y = 7\n",
    "\n",
    "if x < y:\n",
    "    print('yes')\n",
    "if y < x:\n",
    "    print('no')\n",
    "if x:\n",
    "    print('xest')\n",
    "if y:\n",
    "    print('xest')\n",
    "if 'hack' in 'hacktiv':\n",
    "    print('yes')"
   ]
  },
  {
   "cell_type": "code",
   "execution_count": 1,
   "metadata": {},
   "outputs": [
    {
     "name": "stdout",
     "output_type": "stream",
     "text": [
      "foo ada didalamnya\n",
      "cetak pernyataan ini\n",
      "ini juga tidak benar\n",
      "cetak pernyataan ini\n",
      "langkah terakhir\n"
     ]
    }
   ],
   "source": [
    "if 'foo' in ['foo', 'bar', 'baz'] :\n",
    "    print('foo ada didalamnya')\n",
    "\n",
    "    if 15 > 40:\n",
    "        print('Tidak benar')\n",
    "    \n",
    "    print('cetak pernyataan ini')\n",
    "\n",
    "    if 15 < 20:\n",
    "        print('ini juga tidak benar')\n",
    "\n",
    "    print('cetak pernyataan ini')\n",
    "print('langkah terakhir')\n"
   ]
  },
  {
   "cell_type": "code",
   "execution_count": 3,
   "metadata": {},
   "outputs": [
    {
     "name": "stdout",
     "output_type": "stream",
     "text": [
      "pernyataan ini salah\n",
      "x lebih kecil\n"
     ]
    }
   ],
   "source": [
    "#ifelse, jika suatu kondisi benar maka program akan mengeksekusi pernyataan pertama dan mengabaikan pernyataan kedua. jika salah maka sebaliknya.\n",
    "x = 30\n",
    "\n",
    "if x < 70:\n",
    "    print('pernyataan ini salah')\n",
    "    print('x lebih kecil')\n",
    "else:\n",
    "    print('pernyataan ini memang salah')\n",
    "    print('lebih besar')"
   ]
  },
  {
   "cell_type": "code",
   "execution_count": 8,
   "metadata": {},
   "outputs": [
    {
     "name": "stdout",
     "output_type": "stream",
     "text": [
      "uang tidak cukup\n"
     ]
    }
   ],
   "source": [
    "#elif, jumlah elif bisa digunakan berapa kalipun, sedangkan else nya hanya boleh ada satu dan diakhir\n",
    "hargaBaju = 80000\n",
    "hargaCelana = 60000\n",
    "uang = 30000\n",
    "\n",
    "if uang > hargaBaju:\n",
    "    print(\"beli baju\")\n",
    "elif uang > hargaCelana:\n",
    "    print(\"beli celana\")\n",
    "else:\n",
    "    print(\"uang tidak cukup\")"
   ]
  },
  {
   "cell_type": "code",
   "execution_count": 10,
   "metadata": {},
   "outputs": [
    {
     "name": "stdout",
     "output_type": "stream",
     "text": [
      "corge\n",
      "grault\n"
     ]
    }
   ],
   "source": [
    "x = 3 \n",
    "if x == 1:\n",
    "    print('foo')\n",
    "    print('bar')\n",
    "    print('baz')\n",
    "elif x == 2:\n",
    "    print('qux')\n",
    "    print('quux')\n",
    "else:\n",
    "    print('corge')\n",
    "    print('grault')"
   ]
  },
  {
   "cell_type": "code",
   "execution_count": 14,
   "metadata": {},
   "outputs": [
    {
     "name": "stdout",
     "output_type": "stream",
     "text": [
      "Let's go to the library\n"
     ]
    }
   ],
   "source": [
    "#conditional expression\n",
    "raining = False\n",
    "print(\"Let's go to the\", 'beach' if not raining else 'library')"
   ]
  },
  {
   "cell_type": "code",
   "execution_count": 16,
   "metadata": {},
   "outputs": [
    {
     "data": {
      "text/plain": [
       "'teen'"
      ]
     },
     "execution_count": 16,
     "metadata": {},
     "output_type": "execute_result"
    }
   ],
   "source": [
    "age = 20\n",
    "s = 'teen' if age < 21 else 'adult'\n",
    "s"
   ]
  },
  {
   "cell_type": "code",
   "execution_count": 25,
   "metadata": {},
   "outputs": [
    {
     "name": "stdout",
     "output_type": "stream",
     "text": [
      "foo\n"
     ]
    }
   ],
   "source": [
    "#python pass statement\n",
    "if True:\n",
    "    pass\n",
    "print('foo')"
   ]
  },
  {
   "cell_type": "code",
   "execution_count": 26,
   "metadata": {},
   "outputs": [
    {
     "name": "stdout",
     "output_type": "stream",
     "text": [
      "6\n",
      "5\n",
      "4\n",
      "3\n",
      "2\n",
      "1\n",
      "0\n"
     ]
    }
   ],
   "source": [
    "#kondisi while (perulangan), kondisi pertama kali akan dievaluasi dalam konteks boolean, jika benar maka perulangan akan dieksekusi, kemudian di cek lagi jika masih benar maka akan dieksekusi kembali, titik ahirnya hingga menemukan false.\n",
    "n = 7\n",
    "while n > 0:\n",
    "    n -= 1\n",
    "    print(n)"
   ]
  },
  {
   "cell_type": "code",
   "execution_count": 29,
   "metadata": {},
   "outputs": [
    {
     "name": "stdout",
     "output_type": "stream",
     "text": [
      "1\n",
      "2\n",
      "3\n",
      "4\n"
     ]
    }
   ],
   "source": [
    "i = 1\n",
    "while i < 5:\n",
    "    print(i)\n",
    "    i += 1"
   ]
  },
  {
   "cell_type": "code",
   "execution_count": 30,
   "metadata": {},
   "outputs": [
    {
     "name": "stdout",
     "output_type": "stream",
     "text": [
      "5\n",
      "4\n",
      "3\n",
      "Loop ended\n"
     ]
    }
   ],
   "source": [
    "#break statements, menhentikan perulangan pada while, setelah break langsung ke statement akhir\n",
    "n = 6\n",
    "while n > 0:\n",
    "    n -= 1\n",
    "    if n == 2:\n",
    "        break\n",
    "    print(n)\n",
    "print('Loop ended')"
   ]
  },
  {
   "cell_type": "code",
   "execution_count": 32,
   "metadata": {},
   "outputs": [
    {
     "name": "stdout",
     "output_type": "stream",
     "text": [
      "5\n",
      "4\n",
      "3\n",
      "1\n",
      "0\n",
      "Loop ended.\n"
     ]
    }
   ],
   "source": [
    "#continue statements\n",
    "n = 6\n",
    "while n > 0:\n",
    "    n -= 1\n",
    "    if n == 2:\n",
    "        continue\n",
    "    print(n)\n",
    "print('Loop ended.')\n",
    "#ketika perulagan dieksekusi dan n sudah mencapai titik =2 maka n tidak dicetak, tetapi eksekusi tetap kembali ke atas loop lagi selama kondisi masih benar"
   ]
  },
  {
   "cell_type": "code",
   "execution_count": 34,
   "metadata": {},
   "outputs": [
    {
     "name": "stdout",
     "output_type": "stream",
     "text": [
      "foo\n",
      "> baz\n",
      "> qux\n",
      "bar\n",
      "> baz\n",
      "> qux\n"
     ]
    }
   ],
   "source": [
    "#while loop, perulangan akan dilakukan selama keadaan masih benar, dan akan dilakukan pengecekan kondisi terlebih dahulu sebelum dieksekusi kembali\n",
    "a = ['foo','bar']\n",
    "\n",
    "while len(a):\n",
    "    print(a.pop(0))\n",
    "    b = ['baz','qux']\n",
    "    while len(b):\n",
    "        print('>', b.pop(0))"
   ]
  },
  {
   "cell_type": "code",
   "execution_count": 37,
   "metadata": {},
   "outputs": [
    {
     "name": "stdout",
     "output_type": "stream",
     "text": [
      "foo\n",
      "bar\n",
      "baz\n",
      "qux\n",
      "Done.\n"
     ]
    }
   ],
   "source": [
    "#for loop\n",
    "for i in ['foo', 'bar', 'baz', 'qux']:\n",
    "    print(i)\n",
    "else:\n",
    "    print('Done.')"
   ]
  },
  {
   "cell_type": "code",
   "execution_count": 40,
   "metadata": {},
   "outputs": [
    {
     "name": "stdout",
     "output_type": "stream",
     "text": [
      "foo\n",
      "bar\n"
     ]
    }
   ],
   "source": [
    "#using break\n",
    "for i in ['foo', 'bar', 'baz', 'qux']:\n",
    "    if i == 'baz':\n",
    "        break\n",
    "    print(i)\n",
    "else:\n",
    "    print('Done.')"
   ]
  },
  {
   "cell_type": "code",
   "execution_count": 65,
   "metadata": {},
   "outputs": [
    {
     "name": "stdout",
     "output_type": "stream",
     "text": [
      "Masukkan input yang benar\n",
      "Temperaturnya adalah 212 derajat\n"
     ]
    }
   ],
   "source": [
    "temp = input(\"ketikan temperatur yang ingin dikonversi, eg. 45F, 120C: \")\n",
    "degree = int(temp[:-1])\n",
    "i_convertion = temp[-1]\n",
    "\n",
    "if i_convertion == \"C\":\n",
    "    result = int(round((9 * degree) / 5 + 32))\n",
    "elif i_convertion == \"F\":\n",
    "    result = int(round((degree - 32) * 5 / 9))\n",
    "else:\n",
    "    print(\"Masukkan input yang benar\")\n",
    "\n",
    "print(\"Temperaturnya adalah\", result, \"derajat\")    \n"
   ]
  },
  {
   "cell_type": "code",
   "execution_count": 66,
   "metadata": {},
   "outputs": [
    {
     "name": "stdout",
     "output_type": "stream",
     "text": [
      "aku\n",
      "gua\n",
      "stop\n"
     ]
    }
   ],
   "source": [
    "#dimana program akan berhenti(exit) saat mengetik kata stop\n",
    "while True:\n",
    "    msg = input(\"ketikan karakter: \").lower()\n",
    "    print(msg)\n",
    "    if msg == \"stop\":\n",
    "        break"
   ]
  }
 ],
 "metadata": {
  "kernelspec": {
   "display_name": "Python 3.10.7 64-bit",
   "language": "python",
   "name": "python3"
  },
  "language_info": {
   "codemirror_mode": {
    "name": "ipython",
    "version": 3
   },
   "file_extension": ".py",
   "mimetype": "text/x-python",
   "name": "python",
   "nbconvert_exporter": "python",
   "pygments_lexer": "ipython3",
   "version": "3.10.7"
  },
  "orig_nbformat": 4,
  "vscode": {
   "interpreter": {
    "hash": "df95319d8ce4e1d89f5365ae10992bc1f65da593082b1d264e8f529830ec2f02"
   }
  }
 },
 "nbformat": 4,
 "nbformat_minor": 2
}
