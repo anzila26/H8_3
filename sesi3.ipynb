{
 "cells": [
  {
   "cell_type": "code",
   "execution_count": 4,
   "metadata": {},
   "outputs": [],
   "source": [
    "#function\n",
    "def my_function(p, l):\n",
    "    \"Function untuk menghitung luas\"\n",
    "    print(p * l)"
   ]
  },
  {
   "cell_type": "code",
   "execution_count": 6,
   "metadata": {},
   "outputs": [
    {
     "name": "stdout",
     "output_type": "stream",
     "text": [
      "8\n"
     ]
    }
   ],
   "source": [
    "my_function(2,4)"
   ]
  },
  {
   "cell_type": "code",
   "execution_count": 5,
   "metadata": {},
   "outputs": [
    {
     "name": "stdout",
     "output_type": "stream",
     "text": [
      "I'm first call to user defined function!\n",
      "Again second call to the same function\n"
     ]
    }
   ],
   "source": [
    "#mendefinisikan function terlebih dahulu\n",
    "def printme( str) :\n",
    "    \"this prints a passed string into this function\"\n",
    "    print(str)\n",
    "    return;\n",
    "\n",
    "#memanggil function printme\n",
    "printme(\"I'm first call to user defined function!\")\n",
    "printme(\"Again second call to the same function\")"
   ]
  },
  {
   "cell_type": "code",
   "execution_count": 10,
   "metadata": {},
   "outputs": [
    {
     "name": "stdout",
     "output_type": "stream",
     "text": [
      "values inside the function:  [20, 30, 40, [5, 6, 7, 8]]\n",
      "values outside the function:  [20, 30, 40, [5, 6, 7, 8]]\n"
     ]
    }
   ],
   "source": [
    "#pass by reference, passing yang dimana nilai dari var kedua yang ingin kita tetapkan nilainya merefer dari alamat memori var pertama\n",
    "def changme( mylist ):\n",
    "    \"this changes a passed list into this function\"\n",
    "    mylist.append([5,6,7,8]);\n",
    "    print(\"values inside the function: \", mylist)\n",
    "    return\n",
    "\n",
    "#memanggil function changme\n",
    "mylist = [20,30,40];\n",
    "changme( mylist );\n",
    "print(\"values outside the function: \", mylist)\n"
   ]
  },
  {
   "cell_type": "code",
   "execution_count": 13,
   "metadata": {},
   "outputs": [
    {
     "name": "stdout",
     "output_type": "stream",
     "text": [
      "values inside the function:  [5, 6, 7, 8]\n",
      "values outside the function:  [20, 30, 40]\n"
     ]
    }
   ],
   "source": [
    "#argumen diteruskan oleh refernce dan reference kemudain di overwrite(ditimpa)\n",
    "def changme( mylist ):\n",
    "    \"this changes a passed list into this function\"\n",
    "    mylist = [5,6,7,8];\n",
    "    print(\"values inside the function: \", mylist)\n",
    "    return\n",
    "\n",
    "#memanggil function changme\n",
    "mylist = [20,30,40];\n",
    "changme( mylist );\n",
    "print(\"values outside the function: \", mylist)"
   ]
  },
  {
   "cell_type": "code",
   "execution_count": 17,
   "metadata": {},
   "outputs": [
    {
     "ename": "TypeError",
     "evalue": "printme() missing 1 required positional argument: 'str'",
     "output_type": "error",
     "traceback": [
      "\u001b[1;31m---------------------------------------------------------------------------\u001b[0m",
      "\u001b[1;31mTypeError\u001b[0m                                 Traceback (most recent call last)",
      "Cell \u001b[1;32mIn [17], line 6\u001b[0m\n\u001b[0;32m      4\u001b[0m     \u001b[38;5;28mprint\u001b[39m(\u001b[38;5;28mstr\u001b[39m)\n\u001b[0;32m      5\u001b[0m     \u001b[38;5;28;01mreturn\u001b[39;00m;\n\u001b[1;32m----> 6\u001b[0m \u001b[43mprintme\u001b[49m\u001b[43m(\u001b[49m\u001b[43m)\u001b[49m\n",
      "\u001b[1;31mTypeError\u001b[0m: printme() missing 1 required positional argument: 'str'"
     ]
    }
   ],
   "source": [
    "#required arguments, ketika kita ingin memanggil function maka kita harus memberikan argurmen didalam function tersebut, jika tidak maka akan terjadi eror\n",
    "def printme( str ):\n",
    "    \"this prints a passed string into this function\"\n",
    "    print(str)\n",
    "    return;\n",
    "printme()"
   ]
  },
  {
   "cell_type": "code",
   "execution_count": 20,
   "metadata": {},
   "outputs": [
    {
     "name": "stdout",
     "output_type": "stream",
     "text": [
      "Name:  hacktiv8\n",
      "Age:  4\n"
     ]
    }
   ],
   "source": [
    "#keyword argument, yang dimana saat kita memanggil function, kita perlu mendefinisikan argumen dengan nama parameter dan parameter tidak perlu urut\n",
    "def printme( name, age ):\n",
    "    \"this prints a passed string into this function\"\n",
    "    print(\"Name: \", name)\n",
    "    print(\"Age: \", age)\n",
    "    return;\n",
    "printme(age = 4, name = \"hacktiv8\")"
   ]
  },
  {
   "cell_type": "code",
   "execution_count": 23,
   "metadata": {},
   "outputs": [
    {
     "name": "stdout",
     "output_type": "stream",
     "text": [
      "Name:  hacktiv8\n",
      "Age:  20\n",
      "Name:  hacktiv8\n",
      "Age:  26\n"
     ]
    }
   ],
   "source": [
    "#default argument, ketika kita tidak memberika nilai argumen pada parameter maka program akan mencetak sesuai dengan argumen parameter yang sudah didefinisikan di awal\n",
    "def printinfo( name, age = 26 ):\n",
    "    \"this prints a passed info into this function\"\n",
    "    print(\"Name: \", name)\n",
    "    print(\"Age: \", age)\n",
    "    return;\n",
    "printinfo( age=20, name=\"hacktiv8\")\n",
    "printinfo( name=\"hacktiv8\")\n"
   ]
  },
  {
   "cell_type": "code",
   "execution_count": 25,
   "metadata": {},
   "outputs": [
    {
     "name": "stdout",
     "output_type": "stream",
     "text": [
      "output is: \n",
      "10\n",
      "output is: \n",
      "70\n",
      "60\n",
      "50\n",
      "a\n"
     ]
    }
   ],
   "source": [
    "#variable-length arguments, dapat menyimpan beberapa argumen dalam satu parameter, dan jika parameter tersebut tidak diberikan argumen maka akan tetap kosong\n",
    "def printinfo(arg1, *vartuple): #menempatkan tanda * sebelum nama parameter yang akan dapat menyimpan beberapa argumen tersebut\n",
    "    \"this prints a variable passed arguments\"\n",
    "    print(\"output is: \")\n",
    "    print(arg1)\n",
    "    for var in vartuple:\n",
    "        print(var)\n",
    "    return;\n",
    "printinfo( 10 )\n",
    "printinfo( 70, 60, 50, \"a\" )\n",
    "\n"
   ]
  },
  {
   "cell_type": "code",
   "execution_count": 29,
   "metadata": {},
   "outputs": [
    {
     "name": "stdout",
     "output_type": "stream",
     "text": [
      "values of total :  30\n",
      "values of total:  70\n"
     ]
    }
   ],
   "source": [
    "#anonymous functions, yang dimana tidak mendefinisikan function seperti biasa menggunakan def, melainkan menggunakan keyword lambda\n",
    "sum = lambda arg1, arg2: arg1 + arg2;\n",
    "\n",
    "print(\"values of total : \", sum(10,20))\n",
    "print(\"values of total: \", sum(30,40))"
   ]
  },
  {
   "cell_type": "code",
   "execution_count": 48,
   "metadata": {},
   "outputs": [
    {
     "name": "stdout",
     "output_type": "stream",
     "text": [
      "inside the function local total :  30\n",
      "outside the function global total :  0\n"
     ]
    }
   ],
   "source": [
    "#var lokal dan global, var lokal cuman bisa diakses di dalam fungsi yang didefinisikan, sedangkan var global bisa diakses di seluruh badan program oleh semua fungsi\n",
    "total = 0\n",
    "\n",
    "def sum(arg1, arg2):\n",
    "\n",
    "    total = arg1 + arg2;\n",
    "    print(\"inside the function local total : \", total)\n",
    "    return total;\n",
    "\n",
    "sum (10, 20);\n",
    "print(\"outside the function global total : \", total)"
   ]
  }
 ],
 "metadata": {
  "kernelspec": {
   "display_name": "Python 3.10.7 64-bit",
   "language": "python",
   "name": "python3"
  },
  "language_info": {
   "codemirror_mode": {
    "name": "ipython",
    "version": 3
   },
   "file_extension": ".py",
   "mimetype": "text/x-python",
   "name": "python",
   "nbconvert_exporter": "python",
   "pygments_lexer": "ipython3",
   "version": "3.10.7"
  },
  "orig_nbformat": 4,
  "vscode": {
   "interpreter": {
    "hash": "df95319d8ce4e1d89f5365ae10992bc1f65da593082b1d264e8f529830ec2f02"
   }
  }
 },
 "nbformat": 4,
 "nbformat_minor": 2
}
