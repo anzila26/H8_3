{
 "cells": [
  {
   "cell_type": "code",
   "execution_count": 158,
   "metadata": {},
   "outputs": [
    {
     "name": "stdout",
     "output_type": "stream",
     "text": [
      "[1 2 3 4]\n"
     ]
    }
   ],
   "source": [
    "#array numpy\n",
    "import numpy as np\n",
    "a =  np.array([[1, 2, 3, 4], [5, 6, 7, 8], [9, 10, 11, 12]])\n",
    "print(a[0])"
   ]
  },
  {
   "cell_type": "code",
   "execution_count": 168,
   "metadata": {},
   "outputs": [
    {
     "name": "stdout",
     "output_type": "stream",
     "text": [
      "[0, 2, 12, 36, 80, 150, 252, 392, 576, 810]\n"
     ]
    }
   ],
   "source": [
    "#mwmbuat vector tanpa numpy\n",
    "def pythonsum(n):\n",
    "    a = b = list(range(n)) \n",
    "    c = []\n",
    "    for i in range(len(a)):\n",
    "        x = a[i] ** 2 \n",
    "        y = b[i] ** 3 \n",
    "        c.append(x + y )\n",
    "    return c \n",
    "\n",
    "c = pythonsum(10)    \n",
    "print(c)"
   ]
  },
  {
   "cell_type": "code",
   "execution_count": 169,
   "metadata": {},
   "outputs": [],
   "source": [
    "#dengan menggunakan numpy\n",
    "def numpysum(n):\n",
    "    a = np.arange(n) ** 2 \n",
    "    b = np.arange(n) ** 3 \n",
    "    c=a + b \n",
    "    return c"
   ]
  },
  {
   "cell_type": "code",
   "execution_count": 164,
   "metadata": {},
   "outputs": [
    {
     "name": "stdout",
     "output_type": "stream",
     "text": [
      "[  0   2  12  36  80 150 252 392 576 810]\n"
     ]
    }
   ],
   "source": [
    "x = numpysum(10)\n",
    "print(x)"
   ]
  },
  {
   "cell_type": "code",
   "execution_count": 170,
   "metadata": {},
   "outputs": [
    {
     "name": "stdout",
     "output_type": "stream",
     "text": [
      "The last 2 elements of the sum [950796, 980100]\n",
      "PythonSum elapsed time in microseconds 727\n"
     ]
    }
   ],
   "source": [
    "from datetime import datetime\n",
    "size = 100\n",
    "start = datetime.now()\n",
    "c = pythonsum(size)\n",
    "delta = datetime.now() - start\n",
    "print(\"The last 2 elements of the sum\", c[-2:])\n",
    "print(\"PythonSum elapsed time in microseconds\", delta.microseconds)"
   ]
  },
  {
   "cell_type": "code",
   "execution_count": 166,
   "metadata": {},
   "outputs": [
    {
     "name": "stdout",
     "output_type": "stream",
     "text": [
      "The last 2 elements of the sum [950796 980100]\n",
      "NumPySum elapsed time in microseconds 0\n"
     ]
    }
   ],
   "source": [
    "start = datetime.now()\n",
    "c = numpysum(size)\n",
    "delta = datetime.now() - start\n",
    "print(\"The last 2 elements of the sum\", c[-2:])\n",
    "print(\"NumPySum elapsed time in microseconds\", delta.microseconds)"
   ]
  },
  {
   "cell_type": "code",
   "execution_count": 171,
   "metadata": {},
   "outputs": [],
   "source": [
    "import numpy"
   ]
  },
  {
   "cell_type": "code",
   "execution_count": 172,
   "metadata": {},
   "outputs": [
    {
     "name": "stdout",
     "output_type": "stream",
     "text": [
      "\n",
      "NumPy\n",
      "=====\n",
      "\n",
      "Provides\n",
      "  1. An array object of arbitrary homogeneous items\n",
      "  2. Fast mathematical operations over arrays\n",
      "  3. Linear Algebra, Fourier Transforms, Random Number Generation\n",
      "\n",
      "How to use the documentation\n",
      "----------------------------\n",
      "Documentation is available in two forms: docstrings provided\n",
      "with the code, and a loose standing reference guide, available from\n",
      "`the NumPy homepage <https://numpy.org>`_.\n",
      "\n",
      "We recommend exploring the docstrings using\n",
      "`IPython <https://ipython.org>`_, an advanced Python shell with\n",
      "TAB-completion and introspection capabilities.  See below for further\n",
      "instructions.\n",
      "\n",
      "The docstring examples assume that `numpy` has been imported as `np`::\n",
      "\n",
      "  >>> import numpy as np\n",
      "\n",
      "Code snippets are indicated by three greater-than signs::\n",
      "\n",
      "  >>> x = 42\n",
      "  >>> x = x + 1\n",
      "\n",
      "Use the built-in ``help`` function to view a function's docstring::\n",
      "\n",
      "  >>> help(np.sort)\n",
      "  ... # doctest: +SKIP\n",
      "\n",
      "For some objects, ``np.info(obj)`` may provide additional help.  This is\n",
      "particularly true if you see the line \"Help on ufunc object:\" at the top\n",
      "of the help() page.  Ufuncs are implemented in C, not Python, for speed.\n",
      "The native Python help() does not know how to view their help, but our\n",
      "np.info() function does.\n",
      "\n",
      "To search for documents containing a keyword, do::\n",
      "\n",
      "  >>> np.lookfor('keyword')\n",
      "  ... # doctest: +SKIP\n",
      "\n",
      "General-purpose documents like a glossary and help on the basic concepts\n",
      "of numpy are available under the ``doc`` sub-module::\n",
      "\n",
      "  >>> from numpy import doc\n",
      "  >>> help(doc)\n",
      "  ... # doctest: +SKIP\n",
      "\n",
      "Available subpackages\n",
      "---------------------\n",
      "lib\n",
      "    Basic functions used by several sub-packages.\n",
      "random\n",
      "    Core Random Tools\n",
      "linalg\n",
      "    Core Linear Algebra Tools\n",
      "fft\n",
      "    Core FFT routines\n",
      "polynomial\n",
      "    Polynomial tools\n",
      "testing\n",
      "    NumPy testing tools\n",
      "distutils\n",
      "    Enhancements to distutils with support for\n",
      "    Fortran compilers support and more.\n",
      "\n",
      "Utilities\n",
      "---------\n",
      "test\n",
      "    Run numpy unittests\n",
      "show_config\n",
      "    Show numpy build configuration\n",
      "dual\n",
      "    Overwrite certain functions with high-performance SciPy tools.\n",
      "    Note: `numpy.dual` is deprecated.  Use the functions from NumPy or Scipy\n",
      "    directly instead of importing them from `numpy.dual`.\n",
      "matlib\n",
      "    Make everything matrices.\n",
      "__version__\n",
      "    NumPy version string\n",
      "\n",
      "Viewing documentation using IPython\n",
      "-----------------------------------\n",
      "Start IPython with the NumPy profile (``ipython -p numpy``), which will\n",
      "import `numpy` under the alias `np`.  Then, use the ``cpaste`` command to\n",
      "paste examples into the shell.  To see which functions are available in\n",
      "`numpy`, type ``np.<TAB>`` (where ``<TAB>`` refers to the TAB key), or use\n",
      "``np.*cos*?<ENTER>`` (where ``<ENTER>`` refers to the ENTER key) to narrow\n",
      "down the list.  To view the docstring for a function, use\n",
      "``np.cos?<ENTER>`` (to view the docstring) and ``np.cos??<ENTER>`` (to view\n",
      "the source code).\n",
      "\n",
      "Copies vs. in-place operation\n",
      "-----------------------------\n",
      "Most of the functions in `numpy` return a copy of the array argument\n",
      "(e.g., `np.sort`).  In-place versions of these functions are often\n",
      "available as array methods, i.e. ``x = np.array([1,2,3]); x.sort()``.\n",
      "Exceptions to this rule are documented.\n",
      "\n",
      "\n"
     ]
    }
   ],
   "source": [
    "print(np.__doc__)"
   ]
  },
  {
   "cell_type": "markdown",
   "metadata": {},
   "source": [
    "Membuat ndarray"
   ]
  },
  {
   "cell_type": "code",
   "execution_count": 173,
   "metadata": {},
   "outputs": [],
   "source": [
    "import numpy as np"
   ]
  },
  {
   "cell_type": "code",
   "execution_count": 174,
   "metadata": {},
   "outputs": [
    {
     "name": "stdout",
     "output_type": "stream",
     "text": [
      "<class 'list'>\n"
     ]
    }
   ],
   "source": [
    "my_list = list(range(5))\n",
    "my_list\n",
    "print(type(my_list))"
   ]
  },
  {
   "cell_type": "code",
   "execution_count": 175,
   "metadata": {},
   "outputs": [
    {
     "name": "stdout",
     "output_type": "stream",
     "text": [
      "<class 'numpy.ndarray'>\n"
     ]
    },
    {
     "data": {
      "text/plain": [
       "array([0, 1, 2, 3, 4])"
      ]
     },
     "execution_count": 175,
     "metadata": {},
     "output_type": "execute_result"
    }
   ],
   "source": [
    "array_1 = np.array(my_list)\n",
    "print(type(array_1))\n",
    "array_1"
   ]
  },
  {
   "cell_type": "code",
   "execution_count": 176,
   "metadata": {},
   "outputs": [
    {
     "name": "stdout",
     "output_type": "stream",
     "text": [
      "array1 :\n",
      " [0 1 2 3 4]\n"
     ]
    }
   ],
   "source": [
    "print(\"array1 :\\n\", array_1)"
   ]
  },
  {
   "cell_type": "code",
   "execution_count": 177,
   "metadata": {},
   "outputs": [
    {
     "name": "stdout",
     "output_type": "stream",
     "text": [
      "[0 1 2 3]\n",
      "[ 2  3  4  5  6  7  8  9 10 11 12 13 14]\n",
      "[ 1  3  5  7  9 11 13]\n"
     ]
    }
   ],
   "source": [
    "#membuat array dengan range element\n",
    "print(np.arange(4)) #mulai dari 0 sampai 4, tetapi 4 tidak disertakan, dan angka ditambah 1\n",
    "print(np.arange(2,15)) #mulai dari 2 sampai 15, tetapi 15 tidak disertakan dan angka ditambah 1\n",
    "print(np.arange(1,15,2)) #mulai dari 1 sampai 15, tetapi 15 jangan diikuti dan angka ditambah 2"
   ]
  },
  {
   "cell_type": "code",
   "execution_count": 178,
   "metadata": {},
   "outputs": [
    {
     "name": "stdout",
     "output_type": "stream",
     "text": [
      "[2 3 4 5]\n"
     ]
    }
   ],
   "source": [
    "arr = np.array([2, 3, 4, 5])\n",
    "print(arr)"
   ]
  },
  {
   "cell_type": "code",
   "execution_count": 179,
   "metadata": {},
   "outputs": [
    {
     "name": "stdout",
     "output_type": "stream",
     "text": [
      "[2 3 4 5 6 7]\n"
     ]
    }
   ],
   "source": [
    "#menambahkan elemn ke array dengan np.append()\n",
    "arr = np.append(arr, [6, 7])\n",
    "print(arr)"
   ]
  },
  {
   "cell_type": "code",
   "execution_count": 180,
   "metadata": {},
   "outputs": [
    {
     "data": {
      "text/plain": [
       "array([2, 3, 5, 6, 7])"
      ]
     },
     "execution_count": 180,
     "metadata": {},
     "output_type": "execute_result"
    }
   ],
   "source": [
    "#menghapus index 2 (perhitungan dimulai dari 0)\n",
    "np.delete(arr, 2)"
   ]
  },
  {
   "cell_type": "code",
   "execution_count": 181,
   "metadata": {},
   "outputs": [],
   "source": [
    "arrsort = np.array([5, 7, 9, 8, 6, 3, 4])"
   ]
  },
  {
   "cell_type": "code",
   "execution_count": 182,
   "metadata": {},
   "outputs": [
    {
     "name": "stdout",
     "output_type": "stream",
     "text": [
      "[3 4 5 6 7 8 9]\n"
     ]
    }
   ],
   "source": [
    "#mengurutkan elemen dengan np.sort()\n",
    "data = np.sort(arrsort)\n",
    "print(data)"
   ]
  },
  {
   "cell_type": "code",
   "execution_count": 183,
   "metadata": {},
   "outputs": [
    {
     "name": "stdout",
     "output_type": "stream",
     "text": [
      "[4 6 3 8 1 7]\n"
     ]
    }
   ],
   "source": [
    "#array 1 dimensi\n",
    "arr_1 = np.array([4, 6, 3, 8, 1, 7])\n",
    "print(arr_1)"
   ]
  },
  {
   "cell_type": "code",
   "execution_count": 184,
   "metadata": {},
   "outputs": [
    {
     "data": {
      "text/plain": [
       "1"
      ]
     },
     "execution_count": 184,
     "metadata": {},
     "output_type": "execute_result"
    }
   ],
   "source": [
    "#untuk tahu jumlah dimensi yang digunakan dengan .ndim\n",
    "arr_1.ndim"
   ]
  },
  {
   "cell_type": "code",
   "execution_count": 185,
   "metadata": {},
   "outputs": [
    {
     "data": {
      "text/plain": [
       "(6,)"
      ]
     },
     "execution_count": 185,
     "metadata": {},
     "output_type": "execute_result"
    }
   ],
   "source": [
    "#untuk mengetahui jumlah elemen yang dimiliki dari masing-masing dimensi\n",
    "arr_1.shape"
   ]
  },
  {
   "cell_type": "code",
   "execution_count": 186,
   "metadata": {},
   "outputs": [
    {
     "data": {
      "text/plain": [
       "6"
      ]
     },
     "execution_count": 186,
     "metadata": {},
     "output_type": "execute_result"
    }
   ],
   "source": [
    "#untuk mengetahui jumlah elemen pada array\n",
    "arr_1.size"
   ]
  },
  {
   "cell_type": "code",
   "execution_count": 187,
   "metadata": {},
   "outputs": [
    {
     "name": "stdout",
     "output_type": "stream",
     "text": [
      "<class 'list'>\n"
     ]
    },
    {
     "data": {
      "text/plain": [
       "[[0, 1, 2, 3], [10, 11, 12, 13]]"
      ]
     },
     "execution_count": 187,
     "metadata": {},
     "output_type": "execute_result"
    }
   ],
   "source": [
    "#array 2 dimensi\n",
    "import numpy as np\n",
    "multi_list = [[0, 1, 2, 3], [10, 11, 12, 13]]\n",
    "print(type(multi_list))\n",
    "multi_list"
   ]
  },
  {
   "cell_type": "code",
   "execution_count": 189,
   "metadata": {},
   "outputs": [
    {
     "name": "stdout",
     "output_type": "stream",
     "text": [
      "<class 'numpy.ndarray'>\n",
      "2\n"
     ]
    },
    {
     "data": {
      "text/plain": [
       "(2, 4)"
      ]
     },
     "execution_count": 189,
     "metadata": {},
     "output_type": "execute_result"
    }
   ],
   "source": [
    "a = np.array(multi_list)\n",
    "print(type(a)) #untuk mengetahui tipe dari a\n",
    "print(a.ndim) #untuk mengetahui jumlah dimensi yang digunakan\n",
    "a.shape #yang mengartikan bahwa dimensi 1 memiliki 2 elemen dan dimensi kedua memliki 4 elemen"
   ]
  },
  {
   "cell_type": "code",
   "execution_count": 190,
   "metadata": {},
   "outputs": [
    {
     "name": "stdout",
     "output_type": "stream",
     "text": [
      "[[[2 4 6 7]\n",
      "  [6 8 9 7]]\n",
      "\n",
      " [[2 4 6 7]\n",
      "  [6 8 9 7]]\n",
      "\n",
      " [[2 4 6 7]\n",
      "  [6 8 9 7]]]\n"
     ]
    }
   ],
   "source": [
    "#array 3 dimensi\n",
    "array_3 = np.array([[[2, 4, 6, 7],\n",
    "                     [6, 8, 9, 7]],\n",
    "                    \n",
    "                    [[2, 4, 6, 7],\n",
    "                     [6, 8, 9, 7]],\n",
    "                     \n",
    "                    [[2, 4, 6, 7],\n",
    "                     [6, 8, 9, 7]]])\n",
    "                \n",
    "print(array_3)"
   ]
  },
  {
   "cell_type": "code",
   "execution_count": 191,
   "metadata": {},
   "outputs": [
    {
     "name": "stdout",
     "output_type": "stream",
     "text": [
      "[[ 0  1  2  3]\n",
      " [10 11 12 13]]\n"
     ]
    }
   ],
   "source": [
    "print(a)"
   ]
  },
  {
   "cell_type": "code",
   "execution_count": 192,
   "metadata": {},
   "outputs": [
    {
     "data": {
      "text/plain": [
       "12"
      ]
     },
     "execution_count": 192,
     "metadata": {},
     "output_type": "execute_result"
    }
   ],
   "source": [
    "#contoh jika ingin mengakses suatu elemen dengan indeks\n",
    "a[1,2]"
   ]
  },
  {
   "cell_type": "code",
   "execution_count": 193,
   "metadata": {},
   "outputs": [
    {
     "data": {
      "text/plain": [
       "array([[3, 5, 6, 8],\n",
       "       [0, 1, 4, 7]])"
      ]
     },
     "execution_count": 193,
     "metadata": {},
     "output_type": "execute_result"
    }
   ],
   "source": [
    "#sorting array dengan .sort\n",
    "x = np.array([[3, 6, 8, 5],[1, 4, 7, 0]])\n",
    "np.sort(x)"
   ]
  },
  {
   "cell_type": "code",
   "execution_count": 194,
   "metadata": {},
   "outputs": [
    {
     "name": "stdout",
     "output_type": "stream",
     "text": [
      "[[1 4 7 0]\n",
      " [3 6 8 5]]\n"
     ]
    }
   ],
   "source": [
    "#axis = 0 yang dimana elemen diurutkan dari yg kecil sesuai kolom\n",
    "x.sort(axis=0)\n",
    "print(x)"
   ]
  },
  {
   "cell_type": "code",
   "execution_count": 195,
   "metadata": {},
   "outputs": [
    {
     "name": "stdout",
     "output_type": "stream",
     "text": [
      "[[0 1 4 7]\n",
      " [3 5 6 8]]\n"
     ]
    }
   ],
   "source": [
    "#axis = 1 yang dimana elemen diurutkan dari yag kecil sesuai baris\n",
    "x.sort(axis=1)\n",
    "print(x)"
   ]
  },
  {
   "cell_type": "code",
   "execution_count": 196,
   "metadata": {},
   "outputs": [
    {
     "data": {
      "text/plain": [
       "array([0., 0., 0., 0., 0.])"
      ]
     },
     "execution_count": 196,
     "metadata": {},
     "output_type": "execute_result"
    }
   ],
   "source": [
    "#saat kita ingin numpy menginisialisa nilai array buat kita, yang dimana kita hanya perlu memberikan jumlah elemen yang kita mau\n",
    "np.zeros(5)"
   ]
  },
  {
   "cell_type": "code",
   "execution_count": null,
   "metadata": {},
   "outputs": [
    {
     "data": {
      "text/plain": [
       "array([1., 1., 1., 1., 1., 1., 1., 1., 1., 1.])"
      ]
     },
     "execution_count": 64,
     "metadata": {},
     "output_type": "execute_result"
    }
   ],
   "source": [
    "np.ones(10)"
   ]
  },
  {
   "cell_type": "code",
   "execution_count": 197,
   "metadata": {},
   "outputs": [
    {
     "name": "stdout",
     "output_type": "stream",
     "text": [
      "[[[0. 0. 0.]\n",
      "  [0. 0. 0.]\n",
      "  [0. 0. 0.]]\n",
      "\n",
      " [[0. 0. 0.]\n",
      "  [0. 0. 0.]\n",
      "  [0. 0. 0.]]\n",
      "\n",
      " [[0. 0. 0.]\n",
      "  [0. 0. 0.]\n",
      "  [0. 0. 0.]]]\n"
     ]
    }
   ],
   "source": [
    "dzero = np.zeros((3, 3, 3))\n",
    "print(dzero)"
   ]
  },
  {
   "cell_type": "code",
   "execution_count": 198,
   "metadata": {},
   "outputs": [
    {
     "data": {
      "text/plain": [
       "(3, 3, 3)"
      ]
     },
     "execution_count": 198,
     "metadata": {},
     "output_type": "execute_result"
    }
   ],
   "source": [
    "dzero.shape"
   ]
  },
  {
   "cell_type": "code",
   "execution_count": null,
   "metadata": {},
   "outputs": [
    {
     "data": {
      "text/plain": [
       "array([1., 1., 1., 1., 1., 1., 1., 1.])"
      ]
     },
     "execution_count": 68,
     "metadata": {},
     "output_type": "execute_result"
    }
   ],
   "source": [
    "ones_array = np.ones(8)\n",
    "ones_array"
   ]
  },
  {
   "cell_type": "code",
   "execution_count": null,
   "metadata": {},
   "outputs": [
    {
     "data": {
      "text/plain": [
       "array([[[1.35478091e-311, 7.31217156e-322],\n",
       "        [0.00000000e+000, 0.00000000e+000],\n",
       "        [1.42413554e-306, 1.16095484e-028]],\n",
       "\n",
       "       [[9.13599533e+242, 3.65299313e+233],\n",
       "        [3.65881463e+233, 1.91073488e+137],\n",
       "        [1.05747862e+214, 1.20338003e+132]],\n",
       "\n",
       "       [[8.48585409e-096, 1.49888993e-076],\n",
       "        [6.35226565e-067, 4.10123869e+223],\n",
       "        [1.11666793e+277, 9.77081644e+199]],\n",
       "\n",
       "       [[9.14433370e+135, 1.05747862e+214],\n",
       "        [1.46899930e+179, 9.08367237e+223],\n",
       "        [1.16466228e-028, 2.66287295e-312]]])"
      ]
     },
     "execution_count": 69,
     "metadata": {},
     "output_type": "execute_result"
    }
   ],
   "source": [
    "empty_array = np.empty((4, 3, 2))\n",
    "empty_array"
   ]
  },
  {
   "cell_type": "code",
   "execution_count": 199,
   "metadata": {},
   "outputs": [
    {
     "name": "stdout",
     "output_type": "stream",
     "text": [
      "[0 1 2 3 4 5]\n"
     ]
    }
   ],
   "source": [
    "#jika ingin mengubah bentuk array tanpa perlu merubah datanya yaitu dengan np.reshape\n",
    "a = np.arange(6)\n",
    "print(a)"
   ]
  },
  {
   "cell_type": "code",
   "execution_count": 200,
   "metadata": {},
   "outputs": [
    {
     "name": "stdout",
     "output_type": "stream",
     "text": [
      "[[0 1 2]\n",
      " [3 4 5]]\n"
     ]
    }
   ],
   "source": [
    "b = a.reshape(2,3)\n",
    "print(b)"
   ]
  },
  {
   "cell_type": "code",
   "execution_count": 201,
   "metadata": {},
   "outputs": [
    {
     "data": {
      "text/plain": [
       "(6,)"
      ]
     },
     "execution_count": 201,
     "metadata": {},
     "output_type": "execute_result"
    }
   ],
   "source": [
    "#jika ingin meningkatkan dimensi array yang kita punya\n",
    "variabelA = np.array([1, 2, 3, 4, 5, 6])\n",
    "variabelA.shape"
   ]
  },
  {
   "cell_type": "code",
   "execution_count": 202,
   "metadata": {},
   "outputs": [
    {
     "name": "stdout",
     "output_type": "stream",
     "text": [
      "(1, 6)\n",
      "[[1 2 3 4 5 6]]\n"
     ]
    },
    {
     "data": {
      "text/plain": [
       "2"
      ]
     },
     "execution_count": 202,
     "metadata": {},
     "output_type": "execute_result"
    }
   ],
   "source": [
    "a2 = variabelA[np.newaxis]\n",
    "print(a2.shape)\n",
    "print(a2)\n",
    "a2.ndim "
   ]
  },
  {
   "cell_type": "code",
   "execution_count": 203,
   "metadata": {},
   "outputs": [
    {
     "name": "stdout",
     "output_type": "stream",
     "text": [
      "(1, 6)\n",
      "[[1 2 3 4 5 6]]\n"
     ]
    }
   ],
   "source": [
    "row_vector = variabelA[np.newaxis, :]\n",
    "print(row_vector.shape)\n",
    "print(row_vector)"
   ]
  },
  {
   "cell_type": "code",
   "execution_count": 206,
   "metadata": {},
   "outputs": [
    {
     "name": "stdout",
     "output_type": "stream",
     "text": [
      "(1, 1, 6)\n",
      "[[[1 2 3 4 5 6]]]\n"
     ]
    }
   ],
   "source": [
    "#mengubahnya menjadi 2 dimensi\n",
    "col_vector = a2[:, np.newaxis]\n",
    "print(col_vector.shape)\n",
    "print(col_vector)"
   ]
  },
  {
   "cell_type": "code",
   "execution_count": 209,
   "metadata": {},
   "outputs": [
    {
     "data": {
      "text/plain": [
       "(6,)"
      ]
     },
     "execution_count": 209,
     "metadata": {},
     "output_type": "execute_result"
    }
   ],
   "source": [
    "#cara memperluas array dengan menyisipkan axis baru dengan np.expand_dims\n",
    "a = np.array([1, 2, 3, 4, 5, 6])\n",
    "a.shape"
   ]
  },
  {
   "cell_type": "code",
   "execution_count": 210,
   "metadata": {},
   "outputs": [
    {
     "name": "stdout",
     "output_type": "stream",
     "text": [
      "(6, 1)\n",
      "[[1]\n",
      " [2]\n",
      " [3]\n",
      " [4]\n",
      " [5]\n",
      " [6]]\n"
     ]
    }
   ],
   "source": [
    "b = np.expand_dims(a, axis=1)\n",
    "b.shape\n",
    "print(b.shape)\n",
    "print(b)"
   ]
  },
  {
   "cell_type": "code",
   "execution_count": 45,
   "metadata": {},
   "outputs": [
    {
     "name": "stdout",
     "output_type": "stream",
     "text": [
      "(1, 6)\n",
      "[[1 2 3 4 5 6]]\n"
     ]
    }
   ],
   "source": [
    "c = np.expand_dims(c, axis=0)\n",
    "print(c.shape)\n",
    "print(c)"
   ]
  },
  {
   "cell_type": "code",
   "execution_count": 46,
   "metadata": {},
   "outputs": [
    {
     "name": "stdout",
     "output_type": "stream",
     "text": [
      "[1 2 3]\n"
     ]
    }
   ],
   "source": [
    "#kita dapat mengindeks array numpy dengan cara yang sama seperti biasa\n",
    "data = np.array([1, 2, 3])\n",
    "print(data)"
   ]
  },
  {
   "cell_type": "code",
   "execution_count": 47,
   "metadata": {},
   "outputs": [
    {
     "name": "stdout",
     "output_type": "stream",
     "text": [
      "[1 2]\n"
     ]
    }
   ],
   "source": [
    "print(data[0:2])"
   ]
  },
  {
   "cell_type": "code",
   "execution_count": 48,
   "metadata": {},
   "outputs": [
    {
     "name": "stdout",
     "output_type": "stream",
     "text": [
      "[2 3]\n"
     ]
    }
   ],
   "source": [
    "print(data[-2:]) "
   ]
  },
  {
   "cell_type": "code",
   "execution_count": 50,
   "metadata": {},
   "outputs": [
    {
     "name": "stdout",
     "output_type": "stream",
     "text": [
      "[4 5 6 7]\n"
     ]
    }
   ],
   "source": [
    "#kita dapat melakukan slice pada array numpy dengan (arr[:])\n",
    "arr = np.array([3, 4, 5, 6,7])\n",
    "print(arr[1:])"
   ]
  },
  {
   "cell_type": "code",
   "execution_count": 58,
   "metadata": {},
   "outputs": [
    {
     "name": "stdout",
     "output_type": "stream",
     "text": [
      "array([4, 5])\n"
     ]
    }
   ],
   "source": [
    "print(repr(arr[1:3]))"
   ]
  },
  {
   "cell_type": "code",
   "execution_count": 61,
   "metadata": {},
   "outputs": [
    {
     "name": "stdout",
     "output_type": "stream",
     "text": [
      "array([5, 6, 7])\n"
     ]
    }
   ],
   "source": [
    "print(repr(arr[-3:]))"
   ]
  },
  {
   "cell_type": "code",
   "execution_count": 62,
   "metadata": {},
   "outputs": [
    {
     "name": "stdout",
     "output_type": "stream",
     "text": [
      "[[ 4  5  6]\n",
      " [ 7  8  9]\n",
      " [10 11 12]]\n"
     ]
    }
   ],
   "source": [
    "#kita dapat memilih nilai array yang kita tentukan sesuai kondisi langsung dengan numpy\n",
    "a = np.array([[4, 5, 6],[7, 8, 9], [10, 11, 12]])\n",
    "print(a)"
   ]
  },
  {
   "cell_type": "code",
   "execution_count": 63,
   "metadata": {},
   "outputs": [
    {
     "name": "stdout",
     "output_type": "stream",
     "text": [
      "[4 5 6 7 8]\n"
     ]
    }
   ],
   "source": [
    "print(a[a<9]) #mencetak nilai yang ada di dalam array kurang dari 9"
   ]
  },
  {
   "cell_type": "code",
   "execution_count": 65,
   "metadata": {},
   "outputs": [
    {
     "name": "stdout",
     "output_type": "stream",
     "text": [
      "[ 6  9 12]\n"
     ]
    }
   ],
   "source": [
    "number = a[a%3==0] #mencetak nilai yang ada di dalam array yang habis di bagi 3\n",
    "print(number)"
   ]
  },
  {
   "cell_type": "code",
   "execution_count": 68,
   "metadata": {},
   "outputs": [
    {
     "data": {
      "text/plain": [
       "array([ 7,  8,  9, 10, 11])"
      ]
     },
     "execution_count": 68,
     "metadata": {},
     "output_type": "execute_result"
    }
   ],
   "source": [
    "#kita dapat mengiris array seperti diatas, hanya dengan menentukan nilai yang kita mau\n",
    "arr = np.array([5, 6, 7, 8, 9, 10, 11, 12, 13])\n",
    "arr1 = arr[2:7]\n",
    "arr1"
   ]
  },
  {
   "cell_type": "code",
   "execution_count": 69,
   "metadata": {},
   "outputs": [],
   "source": [
    "#kita dapat menumpuk array dengan vstack (veritikal) dan hstack(horizontal)\n",
    "a_1 = np.array([[2, 3],\n",
    "                [6, 7]])"
   ]
  },
  {
   "cell_type": "code",
   "execution_count": 71,
   "metadata": {},
   "outputs": [],
   "source": [
    "a_2 = np.array([[8, 9],\n",
    "                [4, 5]])"
   ]
  },
  {
   "cell_type": "code",
   "execution_count": 73,
   "metadata": {},
   "outputs": [
    {
     "data": {
      "text/plain": [
       "array([[2, 3],\n",
       "       [6, 7],\n",
       "       [8, 9],\n",
       "       [4, 5]])"
      ]
     },
     "execution_count": 73,
     "metadata": {},
     "output_type": "execute_result"
    }
   ],
   "source": [
    "np.vstack((a_1, a_2))"
   ]
  },
  {
   "cell_type": "code",
   "execution_count": 74,
   "metadata": {},
   "outputs": [
    {
     "data": {
      "text/plain": [
       "array([[2, 3, 8, 9],\n",
       "       [6, 7, 4, 5]])"
      ]
     },
     "execution_count": 74,
     "metadata": {},
     "output_type": "execute_result"
    }
   ],
   "source": [
    "np.hstack((a_1, a_2))"
   ]
  },
  {
   "cell_type": "code",
   "execution_count": 82,
   "metadata": {},
   "outputs": [
    {
     "name": "stdout",
     "output_type": "stream",
     "text": [
      "[[ 1  3  5  7  9 11 13 15 17 17 17 17]\n",
      " [19 21 23 25 27 29 31 33 35 35 35 35]]\n"
     ]
    }
   ],
   "source": [
    "#jika kita memiliki array yang panjang, lalu kita ingin membagi nya menjadi beberapa bagian maka kita dapat menggunkan hsplit\n",
    "arrsplit = np.array([[1, 3, 5, 7, 9, 11, 13, 15, 17, 17, 17, 17],\n",
    "                      [19, 21, 23, 25, 27, 29, 31, 33, 35, 35, 35, 35]])\n",
    "print(arrsplit)"
   ]
  },
  {
   "cell_type": "code",
   "execution_count": 86,
   "metadata": {},
   "outputs": [
    {
     "data": {
      "text/plain": [
       "[array([[ 1,  3,  5],\n",
       "        [19, 21, 23]]),\n",
       " array([[ 7,  9, 11],\n",
       "        [25, 27, 29]]),\n",
       " array([[13, 15, 17],\n",
       "        [31, 33, 35]]),\n",
       " array([[17, 17, 17],\n",
       "        [35, 35, 35]])]"
      ]
     },
     "execution_count": 86,
     "metadata": {},
     "output_type": "execute_result"
    }
   ],
   "source": [
    "np.hsplit(arrsplit, 4)"
   ]
  },
  {
   "cell_type": "code",
   "execution_count": 87,
   "metadata": {},
   "outputs": [],
   "source": [
    "#membuat objek array baru yang dimana dapat mencetak data yang sama\n",
    "b = arrsplit.view()"
   ]
  },
  {
   "cell_type": "code",
   "execution_count": 88,
   "metadata": {},
   "outputs": [
    {
     "name": "stdout",
     "output_type": "stream",
     "text": [
      "[[ 1  3  5  7  9 11 13 15 17 17 17 17]\n",
      " [19 21 23 25 27 29 31 33 35 35 35 35]]\n"
     ]
    }
   ],
   "source": [
    "print(b)"
   ]
  },
  {
   "cell_type": "code",
   "execution_count": 89,
   "metadata": {},
   "outputs": [],
   "source": [
    "#membuat salinan array baru dengan data yang sama\n",
    "c = arrsplit.copy()"
   ]
  },
  {
   "cell_type": "code",
   "execution_count": 90,
   "metadata": {},
   "outputs": [
    {
     "name": "stdout",
     "output_type": "stream",
     "text": [
      "[[ 1  3  5  7  9 11 13 15 17 17 17 17]\n",
      " [19 21 23 25 27 29 31 33 35 35 35 35]]\n"
     ]
    }
   ],
   "source": [
    "print(c)"
   ]
  },
  {
   "cell_type": "code",
   "execution_count": 95,
   "metadata": {},
   "outputs": [
    {
     "name": "stdout",
     "output_type": "stream",
     "text": [
      "[1, 3]\n",
      "[1, 0]\n"
     ]
    }
   ],
   "source": [
    "#jika kita ingin mengubah isi nilai array, tetapi tidak ingin nilai aslinya itu ikut berubah maka dapat menggunkan fungsi copy()\n",
    "#contoh jika tidak menggunakan fungsi copy(), maka nilai dari var p akan ikut berubah \n",
    "p = [1, 3]\n",
    "q = [5, 7]\n",
    "r = p\n",
    "\n",
    "print(p)\n",
    "r[1] = 0\n",
    "print(p) #ikut berubah\n"
   ]
  },
  {
   "cell_type": "code",
   "execution_count": 96,
   "metadata": {},
   "outputs": [
    {
     "name": "stdout",
     "output_type": "stream",
     "text": [
      "[5, 7]\n",
      "[9, 7]\n"
     ]
    }
   ],
   "source": [
    "#menggunakan copy(), maka nilai dari variabel asli tidak akan ikut berubah\n",
    "s = q.copy()\n",
    "s[0] = 9\n",
    "print(q) #tetep\n",
    "print(s)"
   ]
  },
  {
   "cell_type": "code",
   "execution_count": 97,
   "metadata": {},
   "outputs": [
    {
     "data": {
      "text/plain": [
       "26"
      ]
     },
     "execution_count": 97,
     "metadata": {},
     "output_type": "execute_result"
    }
   ],
   "source": [
    "#jika kita ingin menambahakan jumlah semua elemen dalam array\n",
    "a = np.array([5, 6, 7, 8]) #5 + 6 + 7 + 8 \n",
    "a.sum()"
   ]
  },
  {
   "cell_type": "code",
   "execution_count": 98,
   "metadata": {},
   "outputs": [
    {
     "name": "stdout",
     "output_type": "stream",
     "text": [
      "[[4 5 7]\n",
      " [2 3 4]]\n"
     ]
    }
   ],
   "source": [
    "#untuk menjumlahkan elemen dalam array sesuai baris dan kolom \n",
    "b = np.array([[4, 5, 7], [2, 3, 4]])\n",
    "print(b)"
   ]
  },
  {
   "cell_type": "code",
   "execution_count": 99,
   "metadata": {},
   "outputs": [
    {
     "data": {
      "text/plain": [
       "array([ 6,  8, 11])"
      ]
     },
     "execution_count": 99,
     "metadata": {},
     "output_type": "execute_result"
    }
   ],
   "source": [
    "# sesuai baris dengan axis = 0\n",
    "b.sum(axis=0)"
   ]
  },
  {
   "cell_type": "code",
   "execution_count": 100,
   "metadata": {},
   "outputs": [
    {
     "data": {
      "text/plain": [
       "array([16,  9])"
      ]
     },
     "execution_count": 100,
     "metadata": {},
     "output_type": "execute_result"
    }
   ],
   "source": [
    "# sesuai baris dengan axis = 1\n",
    "b.sum(axis=1)"
   ]
  },
  {
   "cell_type": "code",
   "execution_count": 107,
   "metadata": {},
   "outputs": [
    {
     "data": {
      "text/plain": [
       "array([5, 6, 7])"
      ]
     },
     "execution_count": 107,
     "metadata": {},
     "output_type": "execute_result"
    }
   ],
   "source": [
    "#lalu kita dapat menggabungkan beberapa isi variabel dalam array (dengan operasi + - * /)\n",
    "data = np.array([5, 6, 7])\n",
    "data"
   ]
  },
  {
   "cell_type": "code",
   "execution_count": 108,
   "metadata": {},
   "outputs": [
    {
     "data": {
      "text/plain": [
       "array([1., 1., 1.])"
      ]
     },
     "execution_count": 108,
     "metadata": {},
     "output_type": "execute_result"
    }
   ],
   "source": [
    "ones = np.ones(3)\n",
    "ones"
   ]
  },
  {
   "cell_type": "code",
   "execution_count": 109,
   "metadata": {},
   "outputs": [
    {
     "data": {
      "text/plain": [
       "array([6., 7., 8.])"
      ]
     },
     "execution_count": 109,
     "metadata": {},
     "output_type": "execute_result"
    }
   ],
   "source": [
    "data + ones"
   ]
  },
  {
   "cell_type": "code",
   "execution_count": 110,
   "metadata": {},
   "outputs": [
    {
     "name": "stdout",
     "output_type": "stream",
     "text": [
      "[5 6 7]\n",
      "[15 18 21]\n"
     ]
    }
   ],
   "source": [
    "#melakukan perkalian antara verktor dengan skalar atau array dengan dimensi yang berbeda\n",
    "print(data)\n",
    "print(data * 3)"
   ]
  },
  {
   "cell_type": "code",
   "execution_count": 112,
   "metadata": {},
   "outputs": [
    {
     "name": "stdout",
     "output_type": "stream",
     "text": [
      "[[0.45053314 0.17296777 0.34376245 0.5510652 ]\n",
      " [0.54627315 0.05093587 0.40067661 0.55645993]\n",
      " [0.12697628 0.82485143 0.26590556 0.56917101]]\n"
     ]
    }
   ],
   "source": [
    "#array operations seperti sum, min, max, mean, dsb\n",
    "B = np.array([[0.45053314, 0.17296777, 0.34376245, 0.5510652],\n",
    "              [0.54627315, 0.05093587, 0.40067661, 0.55645993],\n",
    "              [0.12697628, 0.82485143, 0.26590556, 0.56917101]])\n",
    "\n",
    "print(B)"
   ]
  },
  {
   "cell_type": "code",
   "execution_count": 113,
   "metadata": {},
   "outputs": [
    {
     "data": {
      "text/plain": [
       "4.8595784"
      ]
     },
     "execution_count": 113,
     "metadata": {},
     "output_type": "execute_result"
    }
   ],
   "source": [
    "#sum\n",
    "B.sum()"
   ]
  },
  {
   "cell_type": "code",
   "execution_count": 114,
   "metadata": {},
   "outputs": [
    {
     "data": {
      "text/plain": [
       "array([0.12697628, 0.05093587, 0.26590556, 0.5510652 ])"
      ]
     },
     "execution_count": 114,
     "metadata": {},
     "output_type": "execute_result"
    }
   ],
   "source": [
    "#min\n",
    "B.min(axis=0) #nilai terkecil dari perkolom"
   ]
  },
  {
   "cell_type": "code",
   "execution_count": 116,
   "metadata": {},
   "outputs": [
    {
     "data": {
      "text/plain": [
       "array([0.17296777, 0.05093587, 0.12697628])"
      ]
     },
     "execution_count": 116,
     "metadata": {},
     "output_type": "execute_result"
    }
   ],
   "source": [
    "#min\n",
    "B.min(axis=1) #nilai terkecil dari perbaris"
   ]
  },
  {
   "cell_type": "code",
   "execution_count": 115,
   "metadata": {},
   "outputs": [
    {
     "data": {
      "text/plain": [
       "0.21392120766089617"
      ]
     },
     "execution_count": 115,
     "metadata": {},
     "output_type": "execute_result"
    }
   ],
   "source": [
    "#standar devisiasi\n",
    "B.std()"
   ]
  },
  {
   "cell_type": "code",
   "execution_count": 117,
   "metadata": {},
   "outputs": [
    {
     "name": "stdout",
     "output_type": "stream",
     "text": [
      "[[0.45053314 0.17296777 0.34376245 0.5510652 ]\n",
      " [0.54627315 0.05093587 0.40067661 0.55645993]\n",
      " [0.12697628 0.82485143 0.26590556 0.56917101]]\n"
     ]
    }
   ],
   "source": [
    "#memyimpan array kedalam file\n",
    "B = np.array([[0.45053314, 0.17296777, 0.34376245, 0.5510652],\n",
    "              [0.54627315, 0.05093587, 0.40067661, 0.55645993],\n",
    "              [0.12697628, 0.82485143, 0.26590556, 0.56917101]])\n",
    "\n",
    "print(B)"
   ]
  },
  {
   "cell_type": "code",
   "execution_count": 120,
   "metadata": {},
   "outputs": [],
   "source": [
    "np.save(\"exarrayhacktiv.npy\",B)"
   ]
  },
  {
   "cell_type": "code",
   "execution_count": 119,
   "metadata": {},
   "outputs": [
    {
     "name": "stdout",
     "output_type": "stream",
     "text": [
      "[[0.45053314 0.17296777 0.34376245 0.5510652 ]\n",
      " [0.54627315 0.05093587 0.40067661 0.55645993]\n",
      " [0.12697628 0.82485143 0.26590556 0.56917101]]\n"
     ]
    }
   ],
   "source": [
    "responseFile = np.load('exarrayhacktiv.npy')\n",
    "print(responseFile)"
   ]
  },
  {
   "cell_type": "code",
   "execution_count": 121,
   "metadata": {},
   "outputs": [
    {
     "name": "stdout",
     "output_type": "stream",
     "text": [
      "[[  0  72   3]\n",
      " [  1   3 -60]\n",
      " [ -3  -2   4]]\n"
     ]
    }
   ],
   "source": [
    "#Latihan menyimpan file, melakukan load, dan mencari nilai min dan max pada file serta di setiap kolom dan baris\n",
    "arr = np.array([[0, 72, 3],\n",
    "                [1, 3, -60],\n",
    "                [-3, -2, 4]])\n",
    "print(arr)"
   ]
  },
  {
   "cell_type": "code",
   "execution_count": 125,
   "metadata": {},
   "outputs": [],
   "source": [
    "#menyimpan file\n",
    "np.save(\"exarrayhacktiv2.npy\",arr)"
   ]
  },
  {
   "cell_type": "code",
   "execution_count": 126,
   "metadata": {},
   "outputs": [
    {
     "name": "stdout",
     "output_type": "stream",
     "text": [
      "[[  0  72   3]\n",
      " [  1   3 -60]\n",
      " [ -3  -2   4]]\n"
     ]
    }
   ],
   "source": [
    "#men-load file\n",
    "resfile = np.load('exarrayhacktiv2.npy')\n",
    "print(resfile)"
   ]
  },
  {
   "cell_type": "code",
   "execution_count": 127,
   "metadata": {},
   "outputs": [
    {
     "name": "stdout",
     "output_type": "stream",
     "text": [
      "-60\n",
      "72\n",
      "array([ -3,  -2, -60])\n",
      "array([ 1, 72,  4])\n",
      "array([72,  3,  4])\n",
      "array([  0, -60,  -3])\n"
     ]
    }
   ],
   "source": [
    "#mencetak nilai min dan max pada file, dan nilai min juga mx pada setiap kolom dan baris\n",
    "print(resfile.min())\n",
    "print(resfile.max())\n",
    "\n",
    "print(repr(resfile.min(axis=0)))\n",
    "print(repr(resfile.max(axis=0)))\n",
    "\n",
    "print(repr(resfile.max(axis=-1)))\n",
    "print(repr(resfile.min(axis=-1)))"
   ]
  },
  {
   "cell_type": "markdown",
   "metadata": {},
   "source": [
    "Studi kasus\n",
    "10 buah botol minum akan dibuat untuk menyimpan air dengan jari2 dan tinggi yang berbeda - beda . \n",
    "Besaran jari2 dan tinggi botol adalah bilang bulat kisaran 7 sampai dengan 20 cm . \n",
    "\n",
    "Temukan : \n",
    "\n",
    "1. Volume air yang dapat disimpan di setiap botol \n",
    "2. Total volume air yang tersimpan dalam semua botol \n",
    "3. Botol mana yang volume air terkecil dan temukan volumenya \n",
    "4. Botol mana yang menampung volume air terbesar dan temukan volume airnya . \n",
    "5. Rata-rata volume yang dapat di tampung di tiap botol "
   ]
  },
  {
   "cell_type": "code",
   "execution_count": 128,
   "metadata": {},
   "outputs": [
    {
     "name": "stdout",
     "output_type": "stream",
     "text": [
      "[19 12  7 10 18 10 14 16 10 12  9 11 14 13 15 15 19 17  8 13]\n"
     ]
    }
   ],
   "source": [
    "#mencari volume air pada setiap botol\n",
    "#1. melakukan generate tinggi dan jari\" botol\n",
    "import numpy as np \n",
    "np.random.seed(0)\n",
    "dataBotol = np.random.randint(7,20,20)\n",
    "print(dataBotol)"
   ]
  },
  {
   "cell_type": "code",
   "execution_count": 129,
   "metadata": {},
   "outputs": [
    {
     "name": "stdout",
     "output_type": "stream",
     "text": [
      "[[19 12]\n",
      " [ 7 10]\n",
      " [18 10]\n",
      " [14 16]\n",
      " [10 12]\n",
      " [ 9 11]\n",
      " [14 13]\n",
      " [15 15]\n",
      " [19 17]\n",
      " [ 8 13]]\n"
     ]
    }
   ],
   "source": [
    "#2. mengenerate sebanyak 20\n",
    "dataBotol.resize(10,2)\n",
    "print(dataBotol)"
   ]
  },
  {
   "cell_type": "code",
   "execution_count": 130,
   "metadata": {},
   "outputs": [
    {
     "name": "stdout",
     "output_type": "stream",
     "text": [
      "[ 8595.39750022  2199.11485751  5654.86677646 11259.46807047\n",
      "  4523.89342117  3421.19439976  7433.00821839 10602.87520587\n",
      " 17250.48526086  4247.43326765]\n"
     ]
    }
   ],
   "source": [
    "#3. menghitung volume\n",
    "volume = np.pi * dataBotol[:,1]**2 * dataBotol[:,0]\n",
    "print(volume)"
   ]
  },
  {
   "cell_type": "code",
   "execution_count": 131,
   "metadata": {},
   "outputs": [
    {
     "name": "stdout",
     "output_type": "stream",
     "text": [
      "Total volume  : 75187.73697836453 \n"
     ]
    }
   ],
   "source": [
    "#menghitung total volume\n",
    "totalVolume = volume.sum()\n",
    "print(f\"Total volume  : {totalVolume} \")"
   ]
  },
  {
   "cell_type": "code",
   "execution_count": 132,
   "metadata": {},
   "outputs": [
    {
     "data": {
      "text/plain": [
       "2199.1148575128555"
      ]
     },
     "execution_count": 132,
     "metadata": {},
     "output_type": "execute_result"
    }
   ],
   "source": [
    "#menentukan botol mana yang memiliki volum terkecil(min) dan berapa volumnya\n",
    "volume.argmin() \n",
    "volume[volume.argmin()]"
   ]
  },
  {
   "cell_type": "code",
   "execution_count": 133,
   "metadata": {},
   "outputs": [
    {
     "data": {
      "text/plain": [
       "17250.485260861555"
      ]
     },
     "execution_count": 133,
     "metadata": {},
     "output_type": "execute_result"
    }
   ],
   "source": [
    "#menentukan botol mana yang memiliki volum terkecil(max) dan berapa volumnya\n",
    "volume.argmax()\n",
    "volume[volume.argmax()]"
   ]
  },
  {
   "cell_type": "code",
   "execution_count": 135,
   "metadata": {},
   "outputs": [
    {
     "name": "stdout",
     "output_type": "stream",
     "text": [
      "Botol Terkecil Pada Botol index : 1 volume 2199.1148575128555\n",
      "Botol Terkecil Pada Botol index : 8 volume 17250.485260861555\n"
     ]
    }
   ],
   "source": [
    "#rata-rata volum air yang dapat ditampung di dalam botol terkecil dan terbesar\n",
    "idxBotolKecil = volume.argmin()\n",
    "volumeBotolKecil = volume[idxBotolKecil]\n",
    "print(f\"Botol Terkecil Pada Botol index : {idxBotolKecil} volume {volumeBotolKecil}\")\n",
    "idxBotolBesar = volume.argmax()\n",
    "volumeBotolBesar = volume[idxBotolBesar]\n",
    "print(f\"Botol Terkecil Pada Botol index : {idxBotolBesar} volume {volumeBotolBesar}\")\n"
   ]
  },
  {
   "cell_type": "markdown",
   "metadata": {},
   "source": [
    "Numpy read file csv"
   ]
  },
  {
   "cell_type": "code",
   "execution_count": 148,
   "metadata": {},
   "outputs": [],
   "source": [
    "import csv\n",
    "\n",
    "data = []\n",
    "\n",
    "with open('world_population.csv') as csvfile:\n",
    "    file_reader = csv.reader(csvfile, delimiter=',')\n",
    "    for row in file_reader:\n",
    "        data.append(row)\n",
    "        \n",
    "data = np.array(data) #convert the list of lists to a NumPy array"
   ]
  },
  {
   "cell_type": "code",
   "execution_count": 149,
   "metadata": {},
   "outputs": [
    {
     "data": {
      "text/plain": [
       "(235, 17)"
      ]
     },
     "execution_count": 149,
     "metadata": {},
     "output_type": "execute_result"
    }
   ],
   "source": [
    "data.shape #melihat jumlah baris dan kolom"
   ]
  },
  {
   "cell_type": "code",
   "execution_count": 150,
   "metadata": {},
   "outputs": [
    {
     "data": {
      "text/plain": [
       "array(['34', 'DZA', 'Algeria', 'Algiers', 'Africa', '44903225',\n",
       "       '43451666', '39543154', '35856344', '30774621', '25518074',\n",
       "       '18739378', '13795915', '2381741', '18.8531', '1.0164', '0.56'],\n",
       "      dtype='<U32')"
      ]
     },
     "execution_count": 150,
     "metadata": {},
     "output_type": "execute_result"
    }
   ],
   "source": [
    "data[3] #melihat data ke-3"
   ]
  },
  {
   "cell_type": "code",
   "execution_count": 151,
   "metadata": {},
   "outputs": [
    {
     "data": {
      "text/plain": [
       "numpy.str_"
      ]
     },
     "execution_count": 151,
     "metadata": {},
     "output_type": "execute_result"
    }
   ],
   "source": [
    "data.dtype.type"
   ]
  },
  {
   "cell_type": "code",
   "execution_count": 152,
   "metadata": {},
   "outputs": [],
   "source": [
    "np.save(open('data.npy', 'wb'), data) #menyimpan file data dengan .npy"
   ]
  },
  {
   "cell_type": "code",
   "execution_count": 153,
   "metadata": {},
   "outputs": [],
   "source": [
    "newdata = np.load('data.npy')"
   ]
  },
  {
   "cell_type": "code",
   "execution_count": 154,
   "metadata": {},
   "outputs": [
    {
     "data": {
      "text/plain": [
       "(235, 17)"
      ]
     },
     "execution_count": 154,
     "metadata": {},
     "output_type": "execute_result"
    }
   ],
   "source": [
    "newdata.shape"
   ]
  }
 ],
 "metadata": {
  "kernelspec": {
   "display_name": "Python 3.10.7 64-bit",
   "language": "python",
   "name": "python3"
  },
  "language_info": {
   "codemirror_mode": {
    "name": "ipython",
    "version": 3
   },
   "file_extension": ".py",
   "mimetype": "text/x-python",
   "name": "python",
   "nbconvert_exporter": "python",
   "pygments_lexer": "ipython3",
   "version": "3.10.7"
  },
  "orig_nbformat": 4,
  "vscode": {
   "interpreter": {
    "hash": "df95319d8ce4e1d89f5365ae10992bc1f65da593082b1d264e8f529830ec2f02"
   }
  }
 },
 "nbformat": 4,
 "nbformat_minor": 2
}
