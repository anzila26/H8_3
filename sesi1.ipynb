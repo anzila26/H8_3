{
 "cells": [
  {
   "cell_type": "code",
   "execution_count": 1,
   "metadata": {},
   "outputs": [
    {
     "name": "stdout",
     "output_type": "stream",
     "text": [
      "123123123123123123123124\n"
     ]
    }
   ],
   "source": [
    "#tipe data integer\n",
    "print (123123123123123123123123 + 1)"
   ]
  },
  {
   "cell_type": "code",
   "execution_count": 2,
   "metadata": {},
   "outputs": [
    {
     "name": "stdout",
     "output_type": "stream",
     "text": [
      "10\n",
      "<class 'int'>\n"
     ]
    }
   ],
   "source": [
    "print(10)\n",
    "print(type(10))"
   ]
  },
  {
   "cell_type": "code",
   "execution_count": 3,
   "metadata": {},
   "outputs": [
    {
     "name": "stdout",
     "output_type": "stream",
     "text": [
      "4.2\n",
      "<class 'float'>\n",
      "4.0\n",
      "0.2\n",
      "4000000.0\n",
      "0.00042\n"
     ]
    }
   ],
   "source": [
    "#tipe data float\n",
    "print(4.2)\n",
    "print(type(4.2))\n",
    "print(4.)\n",
    "print(.2)\n",
    "print(.4e7)\n",
    "print(4.2e-4)"
   ]
  },
  {
   "cell_type": "code",
   "execution_count": 4,
   "metadata": {},
   "outputs": [
    {
     "name": "stdout",
     "output_type": "stream",
     "text": [
      "Hacktiv8\n",
      "<class 'str'>\n"
     ]
    }
   ],
   "source": [
    "#tipe data string\n",
    "print(\"Hacktiv8\")\n",
    "print(type(\"Hacktiv8\"))"
   ]
  },
  {
   "cell_type": "code",
   "execution_count": 5,
   "metadata": {},
   "outputs": [
    {
     "name": "stdout",
     "output_type": "stream",
     "text": [
      "\n",
      "aku mengikuti program data science\n",
      "aku mengikuti program data science\n"
     ]
    }
   ],
   "source": [
    "#string dapat mencetak code yang kosong, selain itu dapat menggunakan (\" \"), dan ('')\n",
    "print('')\n",
    "print(\"aku mengikuti program data science\")\n",
    "print('aku mengikuti program data science')"
   ]
  },
  {
   "cell_type": "code",
   "execution_count": 6,
   "metadata": {},
   "outputs": [
    {
     "name": "stdout",
     "output_type": "stream",
     "text": [
      "<class 'bool'>\n",
      "<class 'bool'>\n"
     ]
    }
   ],
   "source": [
    "#tipe data boolean (boolean hanya dapat menghasilkan nilai true dan false)\n",
    "print(type(True))\n",
    "print(type(False))"
   ]
  },
  {
   "cell_type": "code",
   "execution_count": 7,
   "metadata": {},
   "outputs": [
    {
     "name": "stdout",
     "output_type": "stream",
     "text": [
      "False\n",
      "True\n"
     ]
    }
   ],
   "source": [
    "#boolean digunakan untuk hasil operasi perbandingan\n",
    "a = 15 < 10\n",
    "print(a)\n",
    "s = 17 > 12\n",
    "print(s)"
   ]
  },
  {
   "cell_type": "code",
   "execution_count": 8,
   "metadata": {},
   "outputs": [
    {
     "name": "stdout",
     "output_type": "stream",
     "text": [
      "5000\n"
     ]
    }
   ],
   "source": [
    "#variable assignment\n",
    "n = 5000\n",
    "print(n)"
   ]
  },
  {
   "cell_type": "code",
   "execution_count": 9,
   "metadata": {},
   "outputs": [
    {
     "name": "stdout",
     "output_type": "stream",
     "text": [
      "200 200 200\n"
     ]
    }
   ],
   "source": [
    "p = q = r = 200\n",
    "print(p, q, r)"
   ]
  },
  {
   "cell_type": "code",
   "execution_count": 10,
   "metadata": {},
   "outputs": [
    {
     "name": "stdout",
     "output_type": "stream",
     "text": [
      "25.5\n",
      "aku mengikuti program hacktiv\n"
     ]
    }
   ],
   "source": [
    "#pada python, var bisa dikasih value dari satu jenis ke jenis yang berbeda\n",
    "var = 25.5\n",
    "print(var)\n",
    "\n",
    "var = \"aku mengikuti program hacktiv\"\n",
    "print(var)"
   ]
  },
  {
   "cell_type": "code",
   "execution_count": 11,
   "metadata": {},
   "outputs": [
    {
     "name": "stdout",
     "output_type": "stream",
     "text": [
      "hacktiv8 20 True\n"
     ]
    }
   ],
   "source": [
    "#nama variabel di pyhton bisa diisi apa pun itu asal karakter pertama dari nama var ga boleh digit, angka\n",
    "name = \"hacktiv8\"\n",
    "age = 20\n",
    "has_laptop = True\n",
    "print(name, age, has_laptop)"
   ]
  },
  {
   "cell_type": "code",
   "execution_count": 12,
   "metadata": {},
   "outputs": [
    {
     "name": "stdout",
     "output_type": "stream",
     "text": [
      "8\n",
      "2\n",
      "15\n",
      "1.6666666666666667\n",
      "2\n",
      "125\n"
     ]
    }
   ],
   "source": [
    "#operator artimatika\n",
    "p = 5\n",
    "q = 3\n",
    "\n",
    "print(p+q)\n",
    "print(p-q)\n",
    "print(p*q)\n",
    "print(p/q)\n",
    "print(p%q)\n",
    "print(p**q)"
   ]
  },
  {
   "cell_type": "code",
   "execution_count": 13,
   "metadata": {},
   "outputs": [
    {
     "name": "stdout",
     "output_type": "stream",
     "text": [
      "False\n",
      "True\n",
      "True\n",
      "False\n"
     ]
    }
   ],
   "source": [
    "#comparison operator, yang dimana akan mengahsilkan nilai boolean\n",
    "p = 20\n",
    "q = 30\n",
    "print(p == q)\n",
    "print(p != q)\n",
    "print(p <= q)\n",
    "print(p >= q)"
   ]
  },
  {
   "cell_type": "code",
   "execution_count": 14,
   "metadata": {},
   "outputs": [
    {
     "name": "stdout",
     "output_type": "stream",
     "text": [
      "Data science\n",
      "data science\n",
      "DATa scIENce\n",
      "Data Science\n",
      "DATA SCIENCE\n"
     ]
    }
   ],
   "source": [
    "#case comversion\n",
    "s = 'datA SCienCE'\n",
    "\n",
    "#capitalize(memberikan huruf pertama kapital dan dilanjutkan huruf kecil )\n",
    "print(s.capitalize())\n",
    "\n",
    "#huruf kecil\n",
    "print(s.lower())\n",
    "\n",
    "#swapcase(pertukaran yang tadinya huruf kecil jadi besar dan sebaliknya)\n",
    "print(s.swapcase())\n",
    "\n",
    "#judul\n",
    "print(s.title())\n",
    "\n",
    "#uppercase(semua huruf menjadi kapital)\n",
    "print(s.upper())"
   ]
  },
  {
   "cell_type": "code",
   "execution_count": 15,
   "metadata": {},
   "outputs": [
    {
     "name": "stdout",
     "output_type": "stream",
     "text": [
      "['foo', 'bar', 'baz', 'qux']\n"
     ]
    }
   ],
   "source": [
    "#list\n",
    "a = ['foo', 'bar', 'baz', 'qux']\n",
    "print(a)"
   ]
  },
  {
   "cell_type": "code",
   "execution_count": 16,
   "metadata": {},
   "outputs": [
    {
     "data": {
      "text/plain": [
       "False"
      ]
     },
     "execution_count": 16,
     "metadata": {},
     "output_type": "execute_result"
    }
   ],
   "source": [
    "#list yang punya elemen sama, tapi urutannya beda, berarti tetep beda\n",
    "a = ['foo', 'bar', 'baz', 'qux']\n",
    "b = ['baz', 'qux', 'bar', 'foo']\n",
    "\n",
    "a == b"
   ]
  },
  {
   "cell_type": "code",
   "execution_count": 17,
   "metadata": {},
   "outputs": [
    {
     "name": "stdout",
     "output_type": "stream",
     "text": [
      "[22.52, 'foobar', 5, 6, 'bark', False, 5.16178]\n"
     ]
    }
   ],
   "source": [
    "#didalam list bisa berisi element dengan bermacam jenis yang berbeda\n",
    "a = [22.52, 'foobar', 5, 6, 'bark', False, 5.16178]\n",
    "print(a)"
   ]
  },
  {
   "cell_type": "code",
   "execution_count": 18,
   "metadata": {},
   "outputs": [
    {
     "name": "stdout",
     "output_type": "stream",
     "text": [
      "foo\n",
      "qux\n",
      "quux\n"
     ]
    }
   ],
   "source": [
    "#elemen di dalam list dapat diakses dengan indeks (yang dimana dimulai dengan angka 0)\n",
    "a = ['foo', 'bar', 'baz', 'qux', 'quux', 'corge']\n",
    "\n",
    "print(a[0])\n",
    "print(a[3])\n",
    "print(a[-2]) #kalau mau diakses pake indeks listnegatif berarti mulai dari kanan (-1)"
   ]
  }
 ],
 "metadata": {
  "kernelspec": {
   "display_name": "Python 3.10.7 64-bit",
   "language": "python",
   "name": "python3"
  },
  "language_info": {
   "codemirror_mode": {
    "name": "ipython",
    "version": 3
   },
   "file_extension": ".py",
   "mimetype": "text/x-python",
   "name": "python",
   "nbconvert_exporter": "python",
   "pygments_lexer": "ipython3",
   "version": "3.10.7"
  },
  "orig_nbformat": 4,
  "vscode": {
   "interpreter": {
    "hash": "df95319d8ce4e1d89f5365ae10992bc1f65da593082b1d264e8f529830ec2f02"
   }
  }
 },
 "nbformat": 4,
 "nbformat_minor": 2
}
